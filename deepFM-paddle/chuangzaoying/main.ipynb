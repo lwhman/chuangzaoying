{
 "cells": [
  {
   "cell_type": "markdown",
   "id": "77e04b29-78d8-4619-a95a-4817a0fcc6a1",
   "metadata": {},
   "source": [
    "# 一、项目背景介绍\n",
    "该项目为推荐系统deepFM算法模型"
   ]
  },
  {
   "cell_type": "markdown",
   "id": "a7f633c5-e91d-4593-a830-ef89aafedcdb",
   "metadata": {},
   "source": [
    "# 二、数据介绍\n",
    "数据集有用户ID,离散标签，连续标签和预测标签组成，如[ID,预测标签，I1,I2,..I13,C1,C2,...C26]\n",
    "![](https://ai-studio-static-online.cdn.bcebos.com/1fa1d2ab991a479e90c40e517181e91c065dbbd998dd4f53897d54cc0c5ec1dd)\n"
   ]
  },
  {
   "cell_type": "markdown",
   "id": "3133c83f-4197-46eb-b120-4e033f12d0f0",
   "metadata": {},
   "source": [
    "# 模型介绍\n",
    "![](https://ai-studio-static-online.cdn.bcebos.com/c52751045c0c4a40a7da439bf957379251b8b230d98d4aae9cfc5428bf5b56b2)\n",
    "\n",
    "DeepFM由两部分组成:神经网络部分和因子分解部分，分别负责提取低阶特征和高阶特征。这两部分共享相同的输入。DeepFM的预测结果可以写成:\n",
    "![](https://ai-studio-static-online.cdn.bcebos.com/bc24106d65de471285fd3c2c5838bd6f067f28d37c14476ab4b86c09582b947b)\n",
    "\n",
    "\n"
   ]
  },
  {
   "cell_type": "markdown",
   "id": "cc7f9f3d-328e-42b1-a3b1-9c6688c19b57",
   "metadata": {},
   "source": [
    "# 四、模型训练\n",
    "\n",
    "(由于时间太赶，代码还没排版好，下次有时间再重新整理一下代码)"
   ]
  },
  {
   "cell_type": "code",
   "execution_count": 1,
   "id": "24e6da50-2ffa-4cfb-b21d-cac646d108ee",
   "metadata": {
    "execution": {
     "iopub.execute_input": "2022-03-06T07:13:27.244919Z",
     "iopub.status.busy": "2022-03-06T07:13:27.243809Z",
     "iopub.status.idle": "2022-03-06T07:13:28.151134Z",
     "shell.execute_reply": "2022-03-06T07:13:28.150409Z",
     "shell.execute_reply.started": "2022-03-06T07:13:27.244880Z"
    },
    "scrolled": true
   },
   "outputs": [],
   "source": [
    "\r\n",
    "import numpy as np\r\n",
    "import pandas as pd\r\n",
    "import matplotlib.pyplot as plt\r\n",
    "from tqdm import tqdm\r\n",
    "import datetime\r\n",
    "\r\n",
    "import warnings\r\n",
    "warnings.filterwarnings('ignore')"
   ]
  },
  {
   "cell_type": "code",
   "execution_count": 2,
   "id": "aef54136-5992-44e4-8f31-48c8c5da3f9f",
   "metadata": {
    "execution": {
     "iopub.execute_input": "2022-03-06T07:14:27.636544Z",
     "iopub.status.busy": "2022-03-06T07:14:27.635609Z",
     "iopub.status.idle": "2022-03-06T07:14:27.640022Z",
     "shell.execute_reply": "2022-03-06T07:14:27.639335Z",
     "shell.execute_reply.started": "2022-03-06T07:14:27.636451Z"
    },
    "scrolled": true
   },
   "outputs": [],
   "source": [
    "data_path=\"./preprocess data/\""
   ]
  },
  {
   "cell_type": "code",
   "execution_count": 3,
   "id": "caeec8a7-91e3-471f-a98e-4040eb7f8244",
   "metadata": {
    "execution": {
     "iopub.execute_input": "2022-03-06T07:14:47.033986Z",
     "iopub.status.busy": "2022-03-06T07:14:47.033110Z",
     "iopub.status.idle": "2022-03-06T07:14:47.039954Z",
     "shell.execute_reply": "2022-03-06T07:14:47.039319Z",
     "shell.execute_reply.started": "2022-03-06T07:14:47.033947Z"
    },
    "scrolled": true
   },
   "outputs": [],
   "source": [
    "def prepared_data(file_path):\r\n",
    "    # 读入训练集， 验证集和测试集\r\n",
    "    train = pd.read_csv(file_path + 'train_set.csv')\r\n",
    "    val = pd.read_csv(file_path + 'val_set.csv')\r\n",
    "    test = pd.read_csv(file_path + 'test_set.csv')\r\n",
    "    \r\n",
    "    trn_x, trn_y = train.drop(columns='Label').values, train['Label'].values\r\n",
    "    val_x, val_y = val.drop(columns='Label').values, val['Label'].values\r\n",
    "    test_x = test.values\r\n",
    "    \r\n",
    "    fea_col = np.load(file_path + 'fea_col.npy', allow_pickle=True)\r\n",
    "    \r\n",
    "    return fea_col, (trn_x, trn_y), (val_x, val_y), test_x"
   ]
  },
  {
   "cell_type": "code",
   "execution_count": 5,
   "id": "6a929854-3823-496a-a937-5e9543fbc416",
   "metadata": {
    "execution": {
     "iopub.execute_input": "2022-03-06T07:15:20.688514Z",
     "iopub.status.busy": "2022-03-06T07:15:20.687330Z",
     "iopub.status.idle": "2022-03-06T07:15:20.718152Z",
     "shell.execute_reply": "2022-03-06T07:15:20.717210Z",
     "shell.execute_reply.started": "2022-03-06T07:15:20.688452Z"
    },
    "scrolled": true
   },
   "outputs": [],
   "source": [
    "fea_cols, (trn_x, trn_y), (val_x, val_y), test_x = prepared_data(data_path)"
   ]
  },
  {
   "cell_type": "code",
   "execution_count": 13,
   "id": "e11be868-cc0b-482a-b19e-caea4d74fd36",
   "metadata": {
    "execution": {
     "iopub.execute_input": "2022-03-06T07:17:49.510683Z",
     "iopub.status.busy": "2022-03-06T07:17:49.509966Z",
     "iopub.status.idle": "2022-03-06T07:17:49.518845Z",
     "shell.execute_reply": "2022-03-06T07:17:49.518206Z",
     "shell.execute_reply.started": "2022-03-06T07:17:49.510645Z"
    },
    "scrolled": true
   },
   "outputs": [
    {
     "data": {
      "text/plain": [
       "([{'feat': 'I1'},\n",
       "  {'feat': 'I2'},\n",
       "  {'feat': 'I3'},\n",
       "  {'feat': 'I4'},\n",
       "  {'feat': 'I5'},\n",
       "  {'feat': 'I6'},\n",
       "  {'feat': 'I7'},\n",
       "  {'feat': 'I8'},\n",
       "  {'feat': 'I9'},\n",
       "  {'feat': 'I10'},\n",
       "  {'feat': 'I11'},\n",
       "  {'feat': 'I12'},\n",
       "  {'feat': 'I13'}],\n",
       " [{'feat': 'C1', 'feat_num': 79, 'embed_dim': 8},\n",
       "  {'feat': 'C2', 'feat_num': 252, 'embed_dim': 8},\n",
       "  {'feat': 'C3', 'feat_num': 1293, 'embed_dim': 8},\n",
       "  {'feat': 'C4', 'feat_num': 1043, 'embed_dim': 8},\n",
       "  {'feat': 'C5', 'feat_num': 30, 'embed_dim': 8},\n",
       "  {'feat': 'C6', 'feat_num': 7, 'embed_dim': 8},\n",
       "  {'feat': 'C7', 'feat_num': 1164, 'embed_dim': 8},\n",
       "  {'feat': 'C8', 'feat_num': 39, 'embed_dim': 8},\n",
       "  {'feat': 'C9', 'feat_num': 2, 'embed_dim': 8},\n",
       "  {'feat': 'C10', 'feat_num': 908, 'embed_dim': 8},\n",
       "  {'feat': 'C11', 'feat_num': 926, 'embed_dim': 8},\n",
       "  {'feat': 'C12', 'feat_num': 1239, 'embed_dim': 8},\n",
       "  {'feat': 'C13', 'feat_num': 824, 'embed_dim': 8},\n",
       "  {'feat': 'C14', 'feat_num': 20, 'embed_dim': 8},\n",
       "  {'feat': 'C15', 'feat_num': 819, 'embed_dim': 8},\n",
       "  {'feat': 'C16', 'feat_num': 1159, 'embed_dim': 8},\n",
       "  {'feat': 'C17', 'feat_num': 9, 'embed_dim': 8},\n",
       "  {'feat': 'C18', 'feat_num': 534, 'embed_dim': 8},\n",
       "  {'feat': 'C19', 'feat_num': 201, 'embed_dim': 8},\n",
       "  {'feat': 'C20', 'feat_num': 4, 'embed_dim': 8},\n",
       "  {'feat': 'C21', 'feat_num': 1204, 'embed_dim': 8},\n",
       "  {'feat': 'C22', 'feat_num': 7, 'embed_dim': 8},\n",
       "  {'feat': 'C23', 'feat_num': 12, 'embed_dim': 8},\n",
       "  {'feat': 'C24', 'feat_num': 729, 'embed_dim': 8},\n",
       "  {'feat': 'C25', 'feat_num': 33, 'embed_dim': 8},\n",
       "  {'feat': 'C26', 'feat_num': 554, 'embed_dim': 8}])"
      ]
     },
     "execution_count": 13,
     "metadata": {},
     "output_type": "execute_result"
    }
   ],
   "source": [
    "fea_cols[0],fea_cols[1]"
   ]
  },
  {
   "cell_type": "code",
   "execution_count": 17,
   "id": "f107daac-9d67-42f4-8946-5b54f331f545",
   "metadata": {
    "execution": {
     "iopub.execute_input": "2022-03-06T07:27:57.412746Z",
     "iopub.status.busy": "2022-03-06T07:27:57.411871Z",
     "iopub.status.idle": "2022-03-06T07:27:58.912413Z",
     "shell.execute_reply": "2022-03-06T07:27:58.911406Z",
     "shell.execute_reply.started": "2022-03-06T07:27:57.412704Z"
    },
    "scrolled": true
   },
   "outputs": [],
   "source": [
    "import paddle\r\n",
    "import paddle.nn as nn\r\n",
    "from paddle.io import Dataset"
   ]
  },
  {
   "cell_type": "code",
   "execution_count": 18,
   "id": "761c89d1-e5be-431c-8254-c62f52c96090",
   "metadata": {
    "execution": {
     "iopub.execute_input": "2022-03-06T07:28:02.281775Z",
     "iopub.status.busy": "2022-03-06T07:28:02.281151Z",
     "iopub.status.idle": "2022-03-06T07:28:02.289134Z",
     "shell.execute_reply": "2022-03-06T07:28:02.288226Z",
     "shell.execute_reply.started": "2022-03-06T07:28:02.281732Z"
    },
    "scrolled": true
   },
   "outputs": [],
   "source": [
    "#构建数据集\r\n",
    "\r\n",
    "# 自定义数据集\r\n",
    "#映射式(map-style)数据集需要继承paddle.io.Dataset\r\n",
    "class SelfDefinedDataset(Dataset):\r\n",
    "    def __init__(self, data_x, data_y, mode = 'train'):\r\n",
    "        super(SelfDefinedDataset, self).__init__()\r\n",
    "        self.data_x = data_x\r\n",
    "        self.data_y = data_y\r\n",
    "        self.mode = mode\r\n",
    "\r\n",
    "    def __getitem__(self, idx):\r\n",
    "        if self.mode == 'predict':\r\n",
    "           return self.data_x[idx]\r\n",
    "        else:\r\n",
    "           return self.data_x[idx], self.data_y[idx]\r\n",
    "\r\n",
    "    def __len__(self):\r\n",
    "        return len(self.data_x)"
   ]
  },
  {
   "cell_type": "code",
   "execution_count": 21,
   "id": "99ff735b-df7b-42dc-8a01-c4a036a434ee",
   "metadata": {
    "execution": {
     "iopub.execute_input": "2022-03-06T07:33:18.652268Z",
     "iopub.status.busy": "2022-03-06T07:33:18.651396Z",
     "iopub.status.idle": "2022-03-06T07:33:18.655891Z",
     "shell.execute_reply": "2022-03-06T07:33:18.655234Z",
     "shell.execute_reply.started": "2022-03-06T07:33:18.652230Z"
    },
    "scrolled": true
   },
   "outputs": [],
   "source": [
    "dl_train_dataset=SelfDefinedDataset(trn_x, trn_y)\r\n",
    "dl_val_dataset=SelfDefinedDataset(val_x, val_y)"
   ]
  },
  {
   "cell_type": "code",
   "execution_count": 22,
   "id": "f6350230-485b-41db-93ab-b024c1f7daed",
   "metadata": {
    "execution": {
     "iopub.execute_input": "2022-03-06T07:34:09.338566Z",
     "iopub.status.busy": "2022-03-06T07:34:09.337380Z",
     "iopub.status.idle": "2022-03-06T07:34:09.344571Z",
     "shell.execute_reply": "2022-03-06T07:34:09.343749Z",
     "shell.execute_reply.started": "2022-03-06T07:34:09.338520Z"
    },
    "scrolled": true
   },
   "outputs": [
    {
     "name": "stdout",
     "output_type": "stream",
     "text": [
      "(39,) ()\n",
      "[9.47368421e-02 3.81388253e-04 8.27716684e-04 8.04597701e-02\n",
      " 1.21156602e-04 1.50927124e-03 5.42822678e-03 9.14076782e-03\n",
      " 1.24179528e-03 2.50000000e-01 2.70270270e-02 0.00000000e+00\n",
      " 9.09090909e-03 2.60000000e+01 1.20000000e+01 7.50000000e+01\n",
      " 3.93000000e+02 1.00000000e+00 0.00000000e+00 9.69000000e+02\n",
      " 2.70000000e+01 1.00000000e+00 8.55000000e+02 3.32000000e+02\n",
      " 6.59000000e+02 5.09000000e+02 1.30000000e+01 2.73000000e+02\n",
      " 2.65000000e+02 8.00000000e+00 1.88000000e+02 2.30000000e+01\n",
      " 2.00000000e+00 1.03300000e+03 0.00000000e+00 0.00000000e+00\n",
      " 6.70000000e+01 2.70000000e+01 4.25000000e+02] 0\n"
     ]
    }
   ],
   "source": [
    "for data, label in dl_train_dataset:\r\n",
    "    print(data.shape, label.shape)\r\n",
    "    print(data, label)\r\n",
    "    break"
   ]
  },
  {
   "cell_type": "code",
   "execution_count": 24,
   "id": "6212670b-8455-445a-8905-02223f85e711",
   "metadata": {
    "execution": {
     "iopub.execute_input": "2022-03-06T07:36:13.723777Z",
     "iopub.status.busy": "2022-03-06T07:36:13.722626Z",
     "iopub.status.idle": "2022-03-06T07:36:13.727984Z",
     "shell.execute_reply": "2022-03-06T07:36:13.727301Z",
     "shell.execute_reply.started": "2022-03-06T07:36:13.723736Z"
    },
    "scrolled": true
   },
   "outputs": [],
   "source": [
    "train_loader = paddle.io.DataLoader(dl_train_dataset, batch_size = 32, shuffle = True)\r\n",
    "valid_loader = paddle.io.DataLoader(dl_val_dataset, batch_size = 32, shuffle = True)"
   ]
  },
  {
   "cell_type": "code",
   "execution_count": 25,
   "id": "5ffc1170-60c8-4f47-8acf-0f0983d50069",
   "metadata": {
    "execution": {
     "iopub.execute_input": "2022-03-06T07:37:15.469170Z",
     "iopub.status.busy": "2022-03-06T07:37:15.468426Z",
     "iopub.status.idle": "2022-03-06T07:37:15.481342Z",
     "shell.execute_reply": "2022-03-06T07:37:15.480550Z",
     "shell.execute_reply.started": "2022-03-06T07:37:15.469129Z"
    },
    "scrolled": true
   },
   "outputs": [
    {
     "name": "stdout",
     "output_type": "stream",
     "text": [
      "[32, 39] Tensor(shape=[32], dtype=int64, place=CPUPlace, stop_gradient=True,\n",
      "       [0, 0, 0, 0, 0, 0, 0, 1, 0, 0, 0, 1, 0, 0, 0, 0, 0, 0, 0, 0, 0, 1, 0, 0,\n",
      "        0, 0, 0, 0, 1, 1, 0, 0])\n"
     ]
    }
   ],
   "source": [
    "\r\n",
    "for x, y in iter(train_loader):\r\n",
    "    print(x.shape, y)\r\n",
    "    break"
   ]
  },
  {
   "cell_type": "markdown",
   "id": "e4d21a5d-bcf7-4c9c-8ecf-20b693e56781",
   "metadata": {},
   "source": [
    "# 构建模型\n",
    "这个模型是两部分组成， 左边是FM模型， 右边是DNN模型\n",
    "\n",
    "![](https://ai-studio-static-online.cdn.bcebos.com/a1b104bf5d3e42dd83280daf98f5741217ce81455ae34cc1ba9015b5a7fdccac)\n"
   ]
  },
  {
   "cell_type": "markdown",
   "id": "621cef26-fd1a-422f-9a46-788fefde2f60",
   "metadata": {},
   "source": [
    "##FM公式\n",
    "(![](https://ai-studio-static-online.cdn.bcebos.com/256411e6caa2444b9408dabc45686f8169e8be0fe60e41c1b9cb4eba2554b772))\n"
   ]
  },
  {
   "cell_type": "code",
   "execution_count": 108,
   "id": "8b57319e-428b-477e-ad67-38a130cfae45",
   "metadata": {
    "execution": {
     "iopub.execute_input": "2022-03-06T14:42:52.477170Z",
     "iopub.status.busy": "2022-03-06T14:42:52.476421Z",
     "iopub.status.idle": "2022-03-06T14:42:52.485770Z",
     "shell.execute_reply": "2022-03-06T14:42:52.485069Z",
     "shell.execute_reply.started": "2022-03-06T14:42:52.477128Z"
    },
    "scrolled": true
   },
   "outputs": [],
   "source": [
    "class FM(nn.Layer):\r\n",
    "    def __init__(self,dim,fea_num):\r\n",
    "        super(FM,self).__init__()\r\n",
    "        self.dim = dim\r\n",
    "        self.w0 = self.create_parameter(paddle.zeros(shape=[1,]).shape)\r\n",
    "        self.add_parameter('w0',self.w0)\r\n",
    "        self.w1=self.create_parameter(paddle.rand(shape=[fea_num, 1]).shape)\r\n",
    "        self.add_parameter('w1',self.w1)\r\n",
    "        self.w2 = self.create_parameter(paddle.rand(shape=[fea_num, dim]).shape)\r\n",
    "        self.add_parameter('w2',self.w2)\r\n",
    "        \r\n",
    "        \r\n",
    "\r\n",
    "\r\n",
    "    def forward(self,inputs):\r\n",
    "        \r\n",
    "        first_order=self.w0+paddle.mm(inputs,self.w1)\r\n",
    "        second_order = 1/2 * paddle.sum(\r\n",
    "            paddle.pow(paddle.mm(inputs, self.w2), 2) - paddle.mm(paddle.pow(inputs,2), paddle.pow(self.w2, 2)),\r\n",
    "            axis = 1,\r\n",
    "            keepdim = True\r\n",
    "        )\r\n",
    "\r\n",
    "        return first_order + second_order\r\n",
    "       \r\n",
    "        \r\n",
    "\r\n",
    "        \r\n"
   ]
  },
  {
   "cell_type": "code",
   "execution_count": 89,
   "id": "8bae2d8a-ccba-4090-a011-582fced0a4c0",
   "metadata": {
    "collapsed": true,
    "execution": {
     "iopub.execute_input": "2022-03-06T13:35:40.111991Z",
     "iopub.status.busy": "2022-03-06T13:35:40.111101Z",
     "iopub.status.idle": "2022-03-06T13:35:40.136109Z",
     "shell.execute_reply": "2022-03-06T13:35:40.135289Z",
     "shell.execute_reply.started": "2022-03-06T13:35:40.111954Z"
    },
    "jupyter": {
     "outputs_hidden": true
    },
    "scrolled": true
   },
   "outputs": [
    {
     "name": "stdout",
     "output_type": "stream",
     "text": [
      "---------------------------------------------------------------------------\n",
      " Layer (type)       Input Shape          Output Shape         Param #    \n",
      "===========================================================================\n",
      "     FM-18           [[32, 39]]            [32, 1]              352      \n",
      "===========================================================================\n",
      "Total params: 352\n",
      "Trainable params: 352\n",
      "Non-trainable params: 0\n",
      "---------------------------------------------------------------------------\n",
      "Input size (MB): 0.00\n",
      "Forward/backward pass size (MB): 0.00\n",
      "Params size (MB): 0.00\n",
      "Estimated Total Size (MB): 0.01\n",
      "---------------------------------------------------------------------------\n",
      "\n"
     ]
    },
    {
     "data": {
      "text/plain": [
       "{'total_params': 352, 'trainable_params': 352}"
      ]
     },
     "execution_count": 89,
     "metadata": {},
     "output_type": "execute_result"
    }
   ],
   "source": [
    "paddle.summary(FM(8,39),(32,39))"
   ]
  },
  {
   "cell_type": "code",
   "execution_count": 91,
   "id": "bec2a36c-619c-4d59-bf97-2cef5d0f7aff",
   "metadata": {
    "collapsed": true,
    "execution": {
     "iopub.execute_input": "2022-03-06T13:42:42.183554Z",
     "iopub.status.busy": "2022-03-06T13:42:42.182678Z",
     "iopub.status.idle": "2022-03-06T13:42:42.193915Z",
     "shell.execute_reply": "2022-03-06T13:42:42.193300Z",
     "shell.execute_reply.started": "2022-03-06T13:42:42.183517Z"
    },
    "jupyter": {
     "outputs_hidden": true
    },
    "scrolled": true
   },
   "outputs": [
    {
     "name": "stdout",
     "output_type": "stream",
     "text": [
      "w0 Parameter containing:\n",
      "Tensor(shape=[1], dtype=float32, place=CPUPlace, stop_gradient=False,\n",
      "       [0.44599235])\n",
      "w1 Parameter containing:\n",
      "Tensor(shape=[39, 1], dtype=float32, place=CPUPlace, stop_gradient=False,\n",
      "       [[ 0.15212154],\n",
      "        [-0.23500401],\n",
      "        [ 0.15196240],\n",
      "        [-0.24409188],\n",
      "        [ 0.33634973],\n",
      "        [-0.25536168],\n",
      "        [-0.38496849],\n",
      "        [ 0.12309468],\n",
      "        [ 0.08477345],\n",
      "        [-0.28101498],\n",
      "        [-0.31306419],\n",
      "        [-0.24703261],\n",
      "        [-0.32349095],\n",
      "        [ 0.09884590],\n",
      "        [ 0.10089105],\n",
      "        [-0.16122256],\n",
      "        [ 0.37944883],\n",
      "        [-0.38282561],\n",
      "        [-0.25189462],\n",
      "        [ 0.23034543],\n",
      "        [ 0.28095150],\n",
      "        [-0.19442679],\n",
      "        [ 0.31634802],\n",
      "        [ 0.37122297],\n",
      "        [-0.00535947],\n",
      "        [ 0.02663028],\n",
      "        [-0.33284673],\n",
      "        [ 0.20504153],\n",
      "        [ 0.14450914],\n",
      "        [ 0.30093455],\n",
      "        [ 0.30281061],\n",
      "        [ 0.35462838],\n",
      "        [ 0.23657298],\n",
      "        [-0.07216120],\n",
      "        [ 0.24004394],\n",
      "        [ 0.26921648],\n",
      "        [ 0.03911385],\n",
      "        [-0.20583311],\n",
      "        [ 0.28365976]])\n",
      "w2 Parameter containing:\n",
      "Tensor(shape=[39, 8], dtype=float32, place=CPUPlace, stop_gradient=False,\n",
      "       [[ 0.15577620,  0.22880781,  0.27651924,  0.10041943,  0.32429308,\n",
      "         -0.20779081,  0.32520187,  0.32720041],\n",
      "        [ 0.07708156,  0.06736505, -0.30282313, -0.25281292, -0.29670084,\n",
      "         -0.19217210,  0.01393062, -0.00345838],\n",
      "        [-0.17628576, -0.03204566, -0.07942885, -0.20643008,  0.28758377,\n",
      "          0.11286438, -0.31433737,  0.32690459],\n",
      "        [-0.00155842, -0.30041787,  0.26664633, -0.34305304,  0.21127844,\n",
      "         -0.02126777, -0.10404870, -0.27173924],\n",
      "        [ 0.07024291, -0.01881120,  0.31316739, -0.34119892, -0.16596176,\n",
      "          0.27427781,  0.23088801,  0.12650532],\n",
      "        [-0.31173509,  0.14822412, -0.21060841,  0.07805938,  0.05357620,\n",
      "         -0.22155873,  0.13462356, -0.23946336],\n",
      "        [-0.07896140, -0.09784833,  0.22657692, -0.10365465, -0.10402825,\n",
      "         -0.25557119, -0.27888602,  0.22910529],\n",
      "        [-0.02517712, -0.21645448, -0.21438505,  0.08983538, -0.09465221,\n",
      "         -0.19724530, -0.10479179, -0.32254085],\n",
      "        [-0.24668950, -0.15644391,  0.17139834,  0.34450704, -0.09571847,\n",
      "         -0.08394209,  0.16589701,  0.04212463],\n",
      "        [ 0.02561194,  0.14452714,  0.14460653,  0.18652892,  0.04403603,\n",
      "         -0.10946128, -0.20260842, -0.15948185],\n",
      "        [ 0.08319396, -0.07356673, -0.32240659, -0.14773907,  0.23563683,\n",
      "         -0.24239624,  0.02249771,  0.18951678],\n",
      "        [ 0.27436978, -0.29182184, -0.31366554, -0.33641908,  0.25853056,\n",
      "          0.34484267,  0.34796137, -0.33239374],\n",
      "        [-0.16921400, -0.31563374,  0.17729062, -0.35107684,  0.15638494,\n",
      "         -0.01972738, -0.04920489,  0.21782851],\n",
      "        [ 0.25486714, -0.21163081,  0.33196145, -0.25268283,  0.27995855,\n",
      "         -0.15205613,  0.12195754, -0.28402835],\n",
      "        [-0.04137045, -0.34036902,  0.06647977,  0.09346011,  0.07135770,\n",
      "         -0.31830025,  0.15004754, -0.01303279],\n",
      "        [ 0.02361777,  0.23501348, -0.21050361,  0.28536940, -0.01585212,\n",
      "         -0.18341446, -0.30547366,  0.05710134],\n",
      "        [ 0.27275360,  0.05684346,  0.27674222,  0.25651270, -0.19693002,\n",
      "         -0.04147559, -0.07746217,  0.29535502],\n",
      "        [ 0.01637539, -0.01279199, -0.34297699,  0.12323886, -0.24553974,\n",
      "          0.15270334, -0.33256617, -0.26800191],\n",
      "        [ 0.11013299,  0.14546180,  0.21839547,  0.27261269,  0.21981508,\n",
      "         -0.35508502,  0.30041027,  0.19635594],\n",
      "        [-0.03015390,  0.22929645, -0.08106649,  0.33801877,  0.30294812,\n",
      "          0.14668328,  0.22728223, -0.12542756],\n",
      "        [ 0.11531752,  0.24197215,  0.09719422,  0.06384772, -0.02611512,\n",
      "          0.27705836,  0.26074481, -0.09289709],\n",
      "        [-0.00383213,  0.20810956,  0.16478932,  0.32767135,  0.33111262,\n",
      "          0.01151341,  0.32297587, -0.21090922],\n",
      "        [ 0.29925239,  0.02241808,  0.13874969,  0.00231245, -0.07995850,\n",
      "         -0.18352450,  0.09174320, -0.19485711],\n",
      "        [-0.24509637,  0.27009863, -0.01161408,  0.20424527, -0.13978456,\n",
      "         -0.29609233,  0.31746858,  0.04315117],\n",
      "        [ 0.27329719, -0.12529290, -0.32698318, -0.24654844,  0.23167288,\n",
      "         -0.15427460,  0.10228488, -0.17887318],\n",
      "        [-0.20085220, -0.00409412,  0.25018805, -0.22700429,  0.29467630,\n",
      "         -0.15312642,  0.24168700,  0.05744749],\n",
      "        [-0.00520149,  0.24608541, -0.27737081, -0.11545230, -0.09527269,\n",
      "          0.00870335, -0.18073319, -0.08833805],\n",
      "        [ 0.28675926,  0.24205035, -0.05663669,  0.34334344, -0.14382899,\n",
      "          0.00349540,  0.09571490,  0.17503434],\n",
      "        [-0.25846153,  0.27690506, -0.02511346, -0.16538288, -0.15035672,\n",
      "          0.05361632,  0.28250009,  0.03318775],\n",
      "        [-0.29530585,  0.11635727, -0.03440252, -0.02936518, -0.12455243,\n",
      "          0.22812080,  0.14757043, -0.01553726],\n",
      "        [ 0.02676344,  0.06184769, -0.32930714, -0.25325581,  0.27421319,\n",
      "         -0.35177410, -0.06330565,  0.18976521],\n",
      "        [-0.26285112, -0.34553891,  0.20709741, -0.04179189,  0.24602813,\n",
      "          0.10477316,  0.16264081, -0.26961526],\n",
      "        [-0.01329854, -0.10599869,  0.30741388, -0.20692165,  0.15986443,\n",
      "         -0.32144365, -0.13574407,  0.25963974],\n",
      "        [-0.29203293,  0.16864133, -0.05458003, -0.30778402,  0.16307658,\n",
      "          0.25062662,  0.24577838,  0.29097217],\n",
      "        [ 0.29053229,  0.22855347, -0.33323759, -0.06624693,  0.28163993,\n",
      "         -0.30149159,  0.09431383, -0.22111763],\n",
      "        [-0.31673843,  0.33145469,  0.04070696, -0.18406132, -0.02175492,\n",
      "         -0.03366020,  0.34052783,  0.05786243],\n",
      "        [-0.23167378, -0.13213293, -0.11643942,  0.35722369, -0.01391965,\n",
      "          0.34539843,  0.09799147,  0.31985027],\n",
      "        [-0.07074884, -0.11628295,  0.16826475,  0.01482019, -0.18034782,\n",
      "          0.13993672, -0.09274089, -0.34356785],\n",
      "        [ 0.34847683, -0.34235564, -0.18613826, -0.10193998, -0.12325345,\n",
      "         -0.33056688, -0.01712272, -0.17934202]])\n"
     ]
    }
   ],
   "source": [
    "s=FM(8,39)\r\n",
    "for name, param in s.named_parameters():\r\n",
    "    print(name, param)      "
   ]
  },
  {
   "cell_type": "code",
   "execution_count": null,
   "id": "3c7c9a80-9614-42e6-9dbf-bc2c9c2e9b8b",
   "metadata": {
    "scrolled": true
   },
   "outputs": [],
   "source": []
  },
  {
   "cell_type": "code",
   "execution_count": 92,
   "id": "799f43de-9239-4382-8402-909aebc46217",
   "metadata": {
    "execution": {
     "iopub.execute_input": "2022-03-06T13:56:34.294229Z",
     "iopub.status.busy": "2022-03-06T13:56:34.293317Z",
     "iopub.status.idle": "2022-03-06T13:56:34.297792Z",
     "shell.execute_reply": "2022-03-06T13:56:34.297173Z",
     "shell.execute_reply.started": "2022-03-06T13:56:34.294191Z"
    },
    "scrolled": true
   },
   "outputs": [],
   "source": [
    "import paddle.nn.functional as F"
   ]
  },
  {
   "cell_type": "code",
   "execution_count": 103,
   "id": "c13e66ab-8f98-497c-87d0-4f4f26c5ea50",
   "metadata": {
    "execution": {
     "iopub.execute_input": "2022-03-06T14:11:14.058784Z",
     "iopub.status.busy": "2022-03-06T14:11:14.058317Z",
     "iopub.status.idle": "2022-03-06T14:11:14.065696Z",
     "shell.execute_reply": "2022-03-06T14:11:14.064917Z",
     "shell.execute_reply.started": "2022-03-06T14:11:14.058746Z"
    },
    "scrolled": true
   },
   "outputs": [],
   "source": [
    "class Dnn(nn.Layer):\r\n",
    "    def __init__(self,hidden_list,dropout=0.):\r\n",
    "        super(Dnn,self).__init__()\r\n",
    "        self.dnn=nn.LayerList([nn.Linear(layer[0],layer[1]) \r\n",
    "          for layer in  list(zip(hidden_list[:-1],hidden_list[1:]))])\r\n",
    "        self.dropout=nn.Dropout(dropout)\r\n",
    "        \r\n",
    "\r\n",
    "    def forward(self,x):\r\n",
    "        for linear in self.dnn:\r\n",
    "            x=linear(x)\r\n",
    "            x=F.relu(x)\r\n",
    "\r\n",
    "        self.dropout(x)\r\n",
    "        \r\n",
    "        \r\n",
    "        return(x)\r\n",
    "        \r\n"
   ]
  },
  {
   "cell_type": "code",
   "execution_count": 105,
   "id": "a19302d5-d29d-49ba-9bf8-7df3492ba433",
   "metadata": {
    "execution": {
     "iopub.execute_input": "2022-03-06T14:12:22.082729Z",
     "iopub.status.busy": "2022-03-06T14:12:22.081633Z",
     "iopub.status.idle": "2022-03-06T14:12:22.093345Z",
     "shell.execute_reply": "2022-03-06T14:12:22.092621Z",
     "shell.execute_reply.started": "2022-03-06T14:12:22.082682Z"
    },
    "scrolled": true
   },
   "outputs": [
    {
     "name": "stdout",
     "output_type": "stream",
     "text": [
      "---------------------------------------------------------------------------\n",
      " Layer (type)       Input Shape          Output Shape         Param #    \n",
      "===========================================================================\n",
      "   Linear-28        [[32, 128]]            [32, 64]            8,256     \n",
      "   Linear-29         [[32, 64]]            [32, 32]            2,080     \n",
      "   Dropout-2         [[32, 32]]            [32, 32]              0       \n",
      "===========================================================================\n",
      "Total params: 10,336\n",
      "Trainable params: 10,336\n",
      "Non-trainable params: 0\n",
      "---------------------------------------------------------------------------\n",
      "Input size (MB): 0.02\n",
      "Forward/backward pass size (MB): 0.03\n",
      "Params size (MB): 0.04\n",
      "Estimated Total Size (MB): 0.09\n",
      "---------------------------------------------------------------------------\n",
      "\n"
     ]
    },
    {
     "data": {
      "text/plain": [
       "{'total_params': 10336, 'trainable_params': 10336}"
      ]
     },
     "execution_count": 105,
     "metadata": {},
     "output_type": "execute_result"
    }
   ],
   "source": [
    "paddle.summary(Dnn([128, 64, 32]),(32,128))"
   ]
  },
  {
   "cell_type": "code",
   "execution_count": 106,
   "id": "be4fafe7-262d-4c34-83db-8283e2f23dbc",
   "metadata": {
    "execution": {
     "iopub.execute_input": "2022-03-06T14:13:22.524194Z",
     "iopub.status.busy": "2022-03-06T14:13:22.523721Z",
     "iopub.status.idle": "2022-03-06T14:13:22.535869Z",
     "shell.execute_reply": "2022-03-06T14:13:22.535078Z",
     "shell.execute_reply.started": "2022-03-06T14:13:22.524157Z"
    },
    "scrolled": true
   },
   "outputs": [
    {
     "name": "stdout",
     "output_type": "stream",
     "text": [
      "dnn.0.weight Parameter containing:\n",
      "Tensor(shape=[128, 64], dtype=float32, place=CPUPlace, stop_gradient=False,\n",
      "       [[ 0.06707515,  0.13847785, -0.06655482, ..., -0.16561088,\n",
      "         -0.06180841,  0.15573387],\n",
      "        [-0.09976895, -0.08881859, -0.02656919, ..., -0.05318263,\n",
      "         -0.17018560,  0.15193240],\n",
      "        [-0.00428711, -0.02451752,  0.16817419, ..., -0.05110016,\n",
      "         -0.01681779, -0.11648417],\n",
      "        ...,\n",
      "        [ 0.09143643, -0.09313656, -0.12042940, ...,  0.13972722,\n",
      "         -0.04550512, -0.05906151],\n",
      "        [-0.09089268, -0.04715914, -0.14746152, ..., -0.07574488,\n",
      "         -0.10247044,  0.17553581],\n",
      "        [ 0.04491828, -0.04316257,  0.10424592, ..., -0.13233250,\n",
      "         -0.07001856, -0.17624608]])\n",
      "dnn.0.bias Parameter containing:\n",
      "Tensor(shape=[64], dtype=float32, place=CPUPlace, stop_gradient=False,\n",
      "       [0., 0., 0., 0., 0., 0., 0., 0., 0., 0., 0., 0., 0., 0., 0., 0., 0., 0.,\n",
      "        0., 0., 0., 0., 0., 0., 0., 0., 0., 0., 0., 0., 0., 0., 0., 0., 0., 0.,\n",
      "        0., 0., 0., 0., 0., 0., 0., 0., 0., 0., 0., 0., 0., 0., 0., 0., 0., 0.,\n",
      "        0., 0., 0., 0., 0., 0., 0., 0., 0., 0.])\n",
      "dnn.1.weight Parameter containing:\n",
      "Tensor(shape=[64, 32], dtype=float32, place=CPUPlace, stop_gradient=False,\n",
      "       [[ 0.16170856,  0.06038851,  0.03602764, ...,  0.12482542,\n",
      "         -0.02523838, -0.20853551],\n",
      "        [ 0.01870546, -0.12472783, -0.03738679, ..., -0.13065925,\n",
      "         -0.05682845, -0.04650307],\n",
      "        [ 0.23001781, -0.01276527, -0.02761041, ...,  0.06322876,\n",
      "         -0.09978248,  0.12670732],\n",
      "        ...,\n",
      "        [-0.01610865, -0.04137805, -0.16878791, ...,  0.10086116,\n",
      "          0.05140889, -0.07785009],\n",
      "        [ 0.05162212, -0.03805579,  0.06823462, ...,  0.14723462,\n",
      "         -0.18079299,  0.02479511],\n",
      "        [-0.18927671,  0.13601407,  0.10843480, ...,  0.20625535,\n",
      "          0.19575387,  0.09843263]])\n",
      "dnn.1.bias Parameter containing:\n",
      "Tensor(shape=[32], dtype=float32, place=CPUPlace, stop_gradient=False,\n",
      "       [0., 0., 0., 0., 0., 0., 0., 0., 0., 0., 0., 0., 0., 0., 0., 0., 0., 0.,\n",
      "        0., 0., 0., 0., 0., 0., 0., 0., 0., 0., 0., 0., 0., 0.])\n"
     ]
    }
   ],
   "source": [
    "z=Dnn([128, 64, 32])\r\n",
    "for name, param in z.named_parameters():\r\n",
    "    print(name, param)  "
   ]
  },
  {
   "cell_type": "code",
   "execution_count": 195,
   "id": "897a2954-96a0-482b-9cbe-c31cc6a2c805",
   "metadata": {
    "execution": {
     "iopub.execute_input": "2022-03-06T17:32:48.476591Z",
     "iopub.status.busy": "2022-03-06T17:32:48.475715Z",
     "iopub.status.idle": "2022-03-06T17:32:48.500440Z",
     "shell.execute_reply": "2022-03-06T17:32:48.499192Z",
     "shell.execute_reply.started": "2022-03-06T17:32:48.476523Z"
    },
    "scrolled": true
   },
   "outputs": [],
   "source": [
    "class DeepFM(nn.Layer):\r\n",
    "    def __init__(self,feature_columns,hidden_list,dnn_dropout=0.):\r\n",
    "        super(DeepFM,self).__init__()\r\n",
    "        self.dense_feature_cols, self.sparse_feature_cols = feature_columns\r\n",
    "        \r\n",
    "        #embedding\r\n",
    "        self.embed_layers=nn.LayerDict({\r\n",
    "            \"embed_\"+str(i):nn.Embedding(feat['feat_num'],feat['embed_dim'])   for i,feat in enumerate(self.sparse_feature_cols)\r\n",
    "        })\r\n",
    "        \r\n",
    "        \r\n",
    "        \r\n",
    "        self.fea_num=len(self.dense_feature_cols)+len(self.sparse_feature_cols)*self.sparse_feature_cols[0]['embed_dim']\r\n",
    "        hidden_list.insert(0,self.fea_num)\r\n",
    "        self.fm=FM(self.sparse_feature_cols[0]['embed_dim'],self.fea_num)\r\n",
    "        self.dnn_network=Dnn(hidden_list,dnn_dropout)\r\n",
    "        self.nn_final_linear=nn.Linear(hidden_list[-1],1)\r\n",
    "        \r\n",
    "        \r\n",
    "        \r\n",
    "    def forward(self,x):\r\n",
    "        dense_inputs,sparse_inputs = x[:,:len(self.dense_feature_cols)],x[:,len(self.dense_feature_cols):]\r\n",
    "        sparse_inputs = paddle.cast(sparse_inputs, dtype='long')\r\n",
    "        sparse_embeds=[self.embed_layers['embed_'+str(i)](sparse_inputs[:,i])  for i  in range(26)]\r\n",
    "        # sparse_embeds=[self.embed_layers['embed_'+str(i)](sparse_inputs[:,i])  for i  in range(sparse_inputs.shape[1])]\r\n",
    "        sparse_embeds=paddle.concat(sparse_embeds,axis=-1)\r\n",
    "        \r\n",
    "        #把离散特征和连续特征进行拼接作为FM和DNN的输入\r\n",
    "        dense_inputs = paddle.cast(dense_inputs, dtype='float32')\r\n",
    "        sparse_inputs = paddle.cast(sparse_inputs, dtype='float32')\r\n",
    "        x=paddle.concat([sparse_embeds,dense_inputs],axis=-1)\r\n",
    "        #wide\r\n",
    "        wide_outputs=self.fm(x)\r\n",
    "        #deep\r\n",
    "        deep_outputs=self.nn_final_linear(self.dnn_network(x))\r\n",
    "        \r\n",
    "        #模型的输出\r\n",
    "        outputs=F.sigmoid(paddle.add(wide_outputs,deep_outputs))\r\n",
    "        \r\n",
    "        return outputs\r\n",
    "        \r\n",
    "        \r\n",
    "        "
   ]
  },
  {
   "cell_type": "code",
   "execution_count": 196,
   "id": "028ba657-c2f3-4b32-b4ea-72b2f01ff36c",
   "metadata": {
    "execution": {
     "iopub.execute_input": "2022-03-06T17:32:49.434721Z",
     "iopub.status.busy": "2022-03-06T17:32:49.434084Z",
     "iopub.status.idle": "2022-03-06T17:32:49.467278Z",
     "shell.execute_reply": "2022-03-06T17:32:49.466284Z",
     "shell.execute_reply.started": "2022-03-06T17:32:49.434653Z"
    },
    "scrolled": true
   },
   "outputs": [],
   "source": [
    "# 建立模型\r\n",
    "hidden_list = [128, 64, 32]\r\n",
    "dnn_dropout = 0.\r\n",
    "\r\n",
    "model = DeepFM(fea_cols, hidden_list, dnn_dropout)"
   ]
  },
  {
   "cell_type": "code",
   "execution_count": 197,
   "id": "adb282e7-5d50-4e5c-977a-0ea52adeaf69",
   "metadata": {
    "execution": {
     "iopub.execute_input": "2022-03-06T17:32:50.078706Z",
     "iopub.status.busy": "2022-03-06T17:32:50.078024Z",
     "iopub.status.idle": "2022-03-06T17:32:50.101189Z",
     "shell.execute_reply": "2022-03-06T17:32:50.099980Z",
     "shell.execute_reply.started": "2022-03-06T17:32:50.078633Z"
    },
    "scrolled": true
   },
   "outputs": [
    {
     "name": "stdout",
     "output_type": "stream",
     "text": [
      "Tensor(shape=[32, 1], dtype=float32, place=CPUPlace, stop_gradient=False,\n",
      "       [[0.32315740],\n",
      "        [0.31093273],\n",
      "        [0.16905159],\n",
      "        [0.19599071],\n",
      "        [0.29962289],\n",
      "        [0.29254788],\n",
      "        [0.33215153],\n",
      "        [0.24165253],\n",
      "        [0.26359463],\n",
      "        [0.24375126],\n",
      "        [0.27597246],\n",
      "        [0.26628450],\n",
      "        [0.20531006],\n",
      "        [0.26816389],\n",
      "        [0.24701035],\n",
      "        [0.23330608],\n",
      "        [0.22911505],\n",
      "        [0.22370060],\n",
      "        [0.24913113],\n",
      "        [0.22915682],\n",
      "        [0.19512792],\n",
      "        [0.27199194],\n",
      "        [0.21131818],\n",
      "        [0.18487053],\n",
      "        [0.26939511],\n",
      "        [0.22719760],\n",
      "        [0.29795116],\n",
      "        [0.20505209],\n",
      "        [0.23758069],\n",
      "        [0.17697102],\n",
      "        [0.23378713],\n",
      "        [0.27061450]])\n"
     ]
    }
   ],
   "source": [
    "for fea,label in iter(train_loader):\r\n",
    "    out=model(fea)\r\n",
    "    print(out)\r\n",
    "    break"
   ]
  },
  {
   "cell_type": "code",
   "execution_count": 198,
   "id": "4b9ceefd-8f36-4fac-9fbf-ad5e3932fd16",
   "metadata": {
    "execution": {
     "iopub.execute_input": "2022-03-06T17:33:08.572467Z",
     "iopub.status.busy": "2022-03-06T17:33:08.571430Z",
     "iopub.status.idle": "2022-03-06T17:33:08.593974Z",
     "shell.execute_reply": "2022-03-06T17:33:08.593080Z",
     "shell.execute_reply.started": "2022-03-06T17:33:08.572395Z"
    },
    "scrolled": true
   },
   "outputs": [
    {
     "name": "stdout",
     "output_type": "stream",
     "text": [
      "---------------------------------------------------------------------------\n",
      " Layer (type)       Input Shape          Output Shape         Param #    \n",
      "===========================================================================\n",
      " Embedding-445         [[39]]              [39, 8]              632      \n",
      " Embedding-446         [[39]]              [39, 8]             2,016     \n",
      " Embedding-447         [[39]]              [39, 8]            10,344     \n",
      " Embedding-448         [[39]]              [39, 8]             8,344     \n",
      " Embedding-449         [[39]]              [39, 8]              240      \n",
      " Embedding-450         [[39]]              [39, 8]              56       \n",
      " Embedding-451         [[39]]              [39, 8]             9,312     \n",
      " Embedding-452         [[39]]              [39, 8]              312      \n",
      " Embedding-453         [[39]]              [39, 8]              16       \n",
      " Embedding-454         [[39]]              [39, 8]             7,264     \n",
      " Embedding-455         [[39]]              [39, 8]             7,408     \n",
      " Embedding-456         [[39]]              [39, 8]             9,912     \n",
      " Embedding-457         [[39]]              [39, 8]             6,592     \n",
      " Embedding-458         [[39]]              [39, 8]              160      \n",
      " Embedding-459         [[39]]              [39, 8]             6,552     \n",
      " Embedding-460         [[39]]              [39, 8]             9,272     \n",
      " Embedding-461         [[39]]              [39, 8]              72       \n",
      " Embedding-462         [[39]]              [39, 8]             4,272     \n",
      " Embedding-463         [[39]]              [39, 8]             1,608     \n",
      " Embedding-464         [[39]]              [39, 8]              32       \n",
      " Embedding-465         [[39]]              [39, 8]             9,632     \n",
      " Embedding-466         [[39]]              [39, 8]              56       \n",
      " Embedding-467         [[39]]              [39, 8]              96       \n",
      " Embedding-468         [[39]]              [39, 8]             5,832     \n",
      " Embedding-469         [[39]]              [39, 8]              264      \n",
      " Embedding-470         [[39]]              [39, 8]             4,432     \n",
      "     FM-37          [[39, 221]]            [39, 1]             1,990     \n",
      "  Linear-100        [[39, 221]]           [39, 128]           28,416     \n",
      "  Linear-101        [[39, 128]]            [39, 64]            8,256     \n",
      "  Linear-102         [[39, 64]]            [39, 32]            2,080     \n",
      "  Dropout-21         [[39, 32]]            [39, 32]              0       \n",
      "    Dnn-21          [[39, 221]]            [39, 32]              0       \n",
      "  Linear-103         [[39, 32]]            [39, 1]              33       \n",
      "===========================================================================\n",
      "Total params: 145,503\n",
      "Trainable params: 145,503\n",
      "Non-trainable params: 0\n",
      "---------------------------------------------------------------------------\n",
      "Input size (MB): 0.02\n",
      "Forward/backward pass size (MB): 0.15\n",
      "Params size (MB): 0.56\n",
      "Estimated Total Size (MB): 0.72\n",
      "---------------------------------------------------------------------------\n",
      "\n"
     ]
    },
    {
     "data": {
      "text/plain": [
       "{'total_params': 145503, 'trainable_params': 145503}"
      ]
     },
     "execution_count": 198,
     "metadata": {},
     "output_type": "execute_result"
    }
   ],
   "source": [
    "paddle.summary(model, (trn_x.shape[1],128))"
   ]
  },
  {
   "cell_type": "code",
   "execution_count": 205,
   "id": "f415b286-e88e-4650-b457-bd8d788e454d",
   "metadata": {
    "execution": {
     "iopub.execute_input": "2022-03-06T17:40:16.343328Z",
     "iopub.status.busy": "2022-03-06T17:40:16.341935Z",
     "iopub.status.idle": "2022-03-06T17:40:16.817233Z",
     "shell.execute_reply": "2022-03-06T17:40:16.816139Z",
     "shell.execute_reply.started": "2022-03-06T17:40:16.343252Z"
    },
    "scrolled": true
   },
   "outputs": [],
   "source": [
    "from sklearn.metrics import roc_auc_score"
   ]
  },
  {
   "cell_type": "code",
   "execution_count": 206,
   "id": "0683f3b3-516b-4d17-8347-931ba66ea3c3",
   "metadata": {
    "execution": {
     "iopub.execute_input": "2022-03-06T17:40:18.149166Z",
     "iopub.status.busy": "2022-03-06T17:40:18.148365Z",
     "iopub.status.idle": "2022-03-06T17:40:18.159353Z",
     "shell.execute_reply": "2022-03-06T17:40:18.157983Z",
     "shell.execute_reply.started": "2022-03-06T17:40:18.149091Z"
    },
    "scrolled": true
   },
   "outputs": [],
   "source": [
    "def auc(y_pred,y_true):\r\n",
    "    pred=y_pred\r\n",
    "    y=y_true\r\n",
    "    return roc_auc_score(y,pred)\r\n",
    "\r\n",
    "loss_func=nn.BCELoss()\r\n",
    "optimizer=paddle.optimizer.Adam(parameters=model.parameters(),learning_rate=0.001)\r\n",
    "metric_func=auc\r\n",
    "metric_name='auc'"
   ]
  },
  {
   "cell_type": "code",
   "execution_count": 210,
   "id": "dfa8b2d9-c967-416f-8844-ff72cd2d5eb8",
   "metadata": {
    "execution": {
     "iopub.execute_input": "2022-03-06T17:45:48.035376Z",
     "iopub.status.busy": "2022-03-06T17:45:48.034139Z",
     "iopub.status.idle": "2022-03-06T17:45:54.485679Z",
     "shell.execute_reply": "2022-03-06T17:45:54.484296Z",
     "shell.execute_reply.started": "2022-03-06T17:45:48.035302Z"
    },
    "scrolled": true
   },
   "outputs": [
    {
     "name": "stdout",
     "output_type": "stream",
     "text": [
      "start training----\n",
      "========================================================2022-03-07  01:45:48\n",
      "[step=10] loss:0.000,auc:1.000\n",
      "[step=20] loss:0.000,auc:1.000\n",
      "[step=30] loss:0.000,auc:1.000\n",
      "[step=40] loss:0.000,auc:1.000\n",
      "\n",
      "EPOCH=1, loss=0.000, auc = 1.000, val_loss=1.187, val_auc = 0.630\n",
      "\n",
      "================================================================================2022-03-07 01:45:48\n",
      "[step=10] loss:0.000,auc:1.000\n",
      "[step=20] loss:0.000,auc:1.000\n",
      "[step=30] loss:0.000,auc:1.000\n",
      "[step=40] loss:0.000,auc:1.000\n",
      "\n",
      "EPOCH=2, loss=0.000, auc = 1.000, val_loss=1.198, val_auc = 0.628\n",
      "\n",
      "================================================================================2022-03-07 01:45:49\n",
      "[step=10] loss:0.000,auc:1.000\n",
      "[step=20] loss:0.000,auc:1.000\n",
      "[step=30] loss:0.000,auc:1.000\n",
      "[step=40] loss:0.000,auc:1.000\n",
      "\n",
      "EPOCH=3, loss=0.000, auc = 1.000, val_loss=1.223, val_auc = 0.641\n",
      "\n",
      "================================================================================2022-03-07 01:45:49\n",
      "[step=10] loss:0.000,auc:1.000\n",
      "[step=20] loss:0.000,auc:1.000\n",
      "[step=30] loss:0.000,auc:1.000\n",
      "[step=40] loss:0.000,auc:1.000\n",
      "\n",
      "EPOCH=4, loss=0.000, auc = 1.000, val_loss=1.240, val_auc = 0.640\n",
      "\n",
      "================================================================================2022-03-07 01:45:50\n",
      "[step=10] loss:0.000,auc:1.000\n",
      "[step=20] loss:0.000,auc:1.000\n",
      "[step=30] loss:0.000,auc:1.000\n",
      "[step=40] loss:0.000,auc:1.000\n",
      "\n",
      "EPOCH=5, loss=0.000, auc = 1.000, val_loss=1.256, val_auc = 0.633\n",
      "\n",
      "================================================================================2022-03-07 01:45:51\n",
      "[step=10] loss:0.000,auc:1.000\n",
      "[step=20] loss:0.000,auc:1.000\n",
      "[step=30] loss:0.000,auc:1.000\n",
      "[step=40] loss:0.000,auc:1.000\n",
      "\n",
      "EPOCH=6, loss=0.000, auc = 1.000, val_loss=1.276, val_auc = 0.640\n",
      "\n",
      "================================================================================2022-03-07 01:45:51\n",
      "[step=10] loss:0.000,auc:1.000\n",
      "[step=20] loss:0.000,auc:1.000\n",
      "[step=30] loss:0.000,auc:1.000\n",
      "[step=40] loss:0.000,auc:1.000\n",
      "\n",
      "EPOCH=7, loss=0.000, auc = 1.000, val_loss=1.287, val_auc = 0.620\n",
      "\n",
      "================================================================================2022-03-07 01:45:52\n",
      "[step=10] loss:0.000,auc:1.000\n",
      "[step=20] loss:0.000,auc:1.000\n",
      "[step=30] loss:0.000,auc:1.000\n",
      "[step=40] loss:0.000,auc:1.000\n",
      "\n",
      "EPOCH=8, loss=0.000, auc = 1.000, val_loss=1.305, val_auc = 0.616\n",
      "\n",
      "================================================================================2022-03-07 01:45:53\n",
      "[step=10] loss:0.000,auc:1.000\n",
      "[step=20] loss:0.000,auc:1.000\n",
      "[step=30] loss:0.000,auc:1.000\n",
      "[step=40] loss:0.000,auc:1.000\n",
      "\n",
      "EPOCH=9, loss=0.000, auc = 1.000, val_loss=1.322, val_auc = 0.622\n",
      "\n",
      "================================================================================2022-03-07 01:45:53\n",
      "[step=10] loss:0.000,auc:1.000\n",
      "[step=20] loss:0.000,auc:1.000\n",
      "[step=30] loss:0.000,auc:1.000\n",
      "[step=40] loss:0.000,auc:1.000\n",
      "\n",
      "EPOCH=10, loss=0.000, auc = 1.000, val_loss=1.331, val_auc = 0.623\n",
      "\n",
      "================================================================================2022-03-07 01:45:54\n"
     ]
    }
   ],
   "source": [
    "#脚本风格\r\n",
    "import datetime\r\n",
    "\r\n",
    "epochs=10\r\n",
    "log_step_freq=10\r\n",
    "\r\n",
    "dfhistory=pd.DataFrame(columns=['epoch', 'loss', metric_name, 'val_loss', 'val_'+metric_name])\r\n",
    "\r\n",
    "print('start training----')\r\n",
    "nowtime=datetime.datetime.now().strftime('%Y-%m-%d  %H:%M:%S')\r\n",
    "print('======='*8+'%s'%nowtime)\r\n",
    "\r\n",
    "for epoch in range(1,epochs+1):\r\n",
    "    \r\n",
    "    #训练阶段\r\n",
    "    model.train()\r\n",
    "    loss_sum=0.0\r\n",
    "    metric_sum=0.0\r\n",
    "    step=1\r\n",
    "    \r\n",
    "    for step,(features,labels) in enumerate(train_loader,1):\r\n",
    "        #梯度清零\r\n",
    "        optimizer.clear_grad()\r\n",
    "        \r\n",
    "        #正向传播\r\n",
    "        predictions=model(features)\r\n",
    "        predictions=predictions.squeeze(1)\r\n",
    "        labels = paddle.cast(labels, dtype='float32')\r\n",
    "        loss=loss_func(predictions,labels)\r\n",
    "        try:\r\n",
    "            metric=metric_func(predictions,labels)\r\n",
    "            \r\n",
    "        except ValueError:\r\n",
    "            pass\r\n",
    "        \r\n",
    "        #反向传播\r\n",
    "        loss.backward()\r\n",
    "        optimizer.step()\r\n",
    "        \r\n",
    "        #打印出batch级日志\r\n",
    "        \r\n",
    "        loss_sum+=loss.item()\r\n",
    "        metric_sum+=metric.item()\r\n",
    "        \r\n",
    "        if step%log_step_freq==0:\r\n",
    "            print((\"[step=%d] loss:%.3f,\"+metric_name+\":%.3f\")%(step, loss_sum/step, metric_sum/step))\r\n",
    "\r\n",
    "    \r\n",
    "    #验证阶段\r\n",
    "    model.eval()\r\n",
    "    val_loss_sum=0.0\r\n",
    "    val_metric_sum=0.0\r\n",
    "    val_step=1\r\n",
    "    \r\n",
    "    for val_step,(features,labels) in enumerate(valid_loader,1):\r\n",
    "        \r\n",
    "            predictions=model(features)\r\n",
    "            predictions=predictions.squeeze(1)\r\n",
    "            labels = paddle.cast(labels, dtype='float32')\r\n",
    "            val_loss=loss_func(predictions,labels)\r\n",
    "            try:\r\n",
    "                val_metric=metric_func(predictions,labels)\r\n",
    "                \r\n",
    "            except ValueError:\r\n",
    "                pass\r\n",
    "            \r\n",
    "            val_loss_sum+=val_loss.item()\r\n",
    "            val_metric_sum+=val_metric.item()\r\n",
    "        \r\n",
    "    #记录日志\r\n",
    "    info = (epoch, loss_sum/step, metric_sum/step, val_loss_sum/val_step, val_metric_sum/val_step)\r\n",
    "    dfhistory.loc[epoch-1] = info\r\n",
    "    print((\"\\nEPOCH=%d, loss=%.3f, \" + metric_name + \" = %.3f, val_loss=%.3f, \" + \"val_\" + metric_name + \" = %.3f\") %info)\r\n",
    "    nowtime = datetime.datetime.now().strftime(\"%Y-%m-%d %H:%M:%S\")\r\n",
    "    print('\\n' + '=========='* 8 + '%s' %nowtime)\r\n",
    "\r\n",
    "     "
   ]
  },
  {
   "cell_type": "markdown",
   "id": "9b0845e2-c278-48d1-8733-9958b89519b1",
   "metadata": {
    "execution": {
     "iopub.execute_input": "2022-03-06T18:11:23.717966Z",
     "iopub.status.busy": "2022-03-06T18:11:23.716905Z",
     "iopub.status.idle": "2022-03-06T18:11:23.722515Z",
     "shell.execute_reply": "2022-03-06T18:11:23.721581Z",
     "shell.execute_reply.started": "2022-03-06T18:11:23.717890Z"
    }
   },
   "source": [
    "# 五、模型评估"
   ]
  },
  {
   "cell_type": "code",
   "execution_count": 211,
   "id": "a5241a48-4311-4618-9300-d6aa4c8823ca",
   "metadata": {
    "execution": {
     "iopub.execute_input": "2022-03-06T17:51:04.663877Z",
     "iopub.status.busy": "2022-03-06T17:51:04.663232Z",
     "iopub.status.idle": "2022-03-06T17:51:05.655469Z",
     "shell.execute_reply": "2022-03-06T17:51:05.653906Z",
     "shell.execute_reply.started": "2022-03-06T17:51:04.663807Z"
    },
    "scrolled": true
   },
   "outputs": [
    {
     "name": "stderr",
     "output_type": "stream",
     "text": [
      "/opt/conda/envs/python35-paddle120-env/lib/python3.7/site-packages/matplotlib/cbook/__init__.py:2349: DeprecationWarning: Using or importing the ABCs from 'collections' instead of from 'collections.abc' is deprecated, and in 3.8 it will stop working\n",
      "  if isinstance(obj, collections.Iterator):\n",
      "/opt/conda/envs/python35-paddle120-env/lib/python3.7/site-packages/matplotlib/cbook/__init__.py:2366: DeprecationWarning: Using or importing the ABCs from 'collections' instead of from 'collections.abc' is deprecated, and in 3.8 it will stop working\n",
      "  return list(data) if isinstance(data, collections.MappingView) else data\n"
     ]
    },
    {
     "data": {
      "image/png": "[encoded data removed]",
      "text/plain": [
       "<Figure size 432x288 with 1 Axes>"
      ]
     },
     "metadata": {
      "needs_background": "light"
     },
     "output_type": "display_data"
    },
    {
     "data": {
      "image/png": "[encoded data removed]",
      "text/plain": [
       "<Figure size 432x288 with 1 Axes>"
      ]
     },
     "metadata": {
      "needs_background": "light"
     },
     "output_type": "display_data"
    }
   ],
   "source": [
    "def plot_metric(dfhistory,metric):\r\n",
    "    train_metric=dfhistory[metric]\r\n",
    "    val_metric=dfhistory['val_'+metric]\r\n",
    "    epochs=range(1,len(train_metric)+1)\r\n",
    "    plt.plot(epochs,train_metric,'bo--')\r\n",
    "    plt.plot(epochs,val_metric,'ro--')\r\n",
    "    plt.title('Training and validation '+ metric)\r\n",
    "    plt.xlabel(\"Epochs\")\r\n",
    "    plt.ylabel(metric)\r\n",
    "    plt.legend([\"train_\"+metric, 'val_'+metric])\r\n",
    "    plt.show()\r\n",
    "    \r\n",
    "plot_metric(dfhistory,'loss')\r\n",
    "plot_metric(dfhistory,'auc')"
   ]
  },
  {
   "cell_type": "code",
   "execution_count": 216,
   "id": "9399ca73-7628-4998-adbd-e10a117717e5",
   "metadata": {
    "execution": {
     "iopub.execute_input": "2022-03-06T17:54:21.728679Z",
     "iopub.status.busy": "2022-03-06T17:54:21.727557Z",
     "iopub.status.idle": "2022-03-06T17:54:21.759839Z",
     "shell.execute_reply": "2022-03-06T17:54:21.758659Z",
     "shell.execute_reply.started": "2022-03-06T17:54:21.728590Z"
    },
    "scrolled": true
   },
   "outputs": [
    {
     "data": {
      "text/plain": [
       "Tensor(shape=[400, 1], dtype=float32, place=CPUPlace, stop_gradient=False,\n",
       "       [[0.00698614],\n",
       "        [0.99999368],\n",
       "        [0.00000875],\n",
       "        [0.00000774],\n",
       "        [0.00059250],\n",
       "        [0.55392522],\n",
       "        [0.74556124],\n",
       "        [0.00002774],\n",
       "        [0.00008443],\n",
       "        [0.00005355],\n",
       "        [0.00002804],\n",
       "        [0.15859747],\n",
       "        [0.57526356],\n",
       "        [0.00000017],\n",
       "        [0.01397542],\n",
       "        [0.00002751],\n",
       "        [0.00001771],\n",
       "        [0.99611890],\n",
       "        [0.20293407],\n",
       "        [0.91348392],\n",
       "        [0.99476057],\n",
       "        [0.00162912],\n",
       "        [0.00048150],\n",
       "        [0.00029815],\n",
       "        [0.00116739],\n",
       "        [0.00080913],\n",
       "        [0.00001670],\n",
       "        [0.00103130],\n",
       "        [0.00000017],\n",
       "        [0.00000461],\n",
       "        [0.16735120],\n",
       "        [0.03040477],\n",
       "        [0.03635709],\n",
       "        [0.10908052],\n",
       "        [0.00112515],\n",
       "        [0.04119326],\n",
       "        [0.50048715],\n",
       "        [0.00000039],\n",
       "        [0.00019302],\n",
       "        [0.00003949],\n",
       "        [0.86209637],\n",
       "        [0.06512322],\n",
       "        [0.99157894],\n",
       "        [0.00034263],\n",
       "        [0.00000016],\n",
       "        [0.00032446],\n",
       "        [0.00037528],\n",
       "        [0.06692173],\n",
       "        [0.99408382],\n",
       "        [0.00006297],\n",
       "        [0.00005386],\n",
       "        [0.00000013],\n",
       "        [0.11591765],\n",
       "        [0.00530932],\n",
       "        [0.01025243],\n",
       "        [0.22747663],\n",
       "        [0.00000327],\n",
       "        [0.04511498],\n",
       "        [0.10264020],\n",
       "        [0.13381267],\n",
       "        [0.00000003],\n",
       "        [0.04157181],\n",
       "        [0.00000665],\n",
       "        [0.00000224],\n",
       "        [0.99997032],\n",
       "        [0.97789747],\n",
       "        [0.00000070],\n",
       "        [0.01061553],\n",
       "        [0.00029709],\n",
       "        [0.04917601],\n",
       "        [0.00000495],\n",
       "        [0.00001529],\n",
       "        [0.00006696],\n",
       "        [0.00130523],\n",
       "        [0.02542407],\n",
       "        [0.33486718],\n",
       "        [0.94728172],\n",
       "        [0.96759498],\n",
       "        [0.00000662],\n",
       "        [0.00083532],\n",
       "        [0.00198941],\n",
       "        [0.15853325],\n",
       "        [0.99960858],\n",
       "        [0.00381799],\n",
       "        [0.00018856],\n",
       "        [0.02778450],\n",
       "        [0.00000568],\n",
       "        [0.00189981],\n",
       "        [0.00000153],\n",
       "        [0.12668218],\n",
       "        [0.13392943],\n",
       "        [0.00067402],\n",
       "        [0.84998626],\n",
       "        [0.04872032],\n",
       "        [0.01419438],\n",
       "        [0.95523739],\n",
       "        [0.08299810],\n",
       "        [0.00000115],\n",
       "        [0.99437571],\n",
       "        [0.01472239],\n",
       "        [0.00000029],\n",
       "        [0.00728839],\n",
       "        [0.00863015],\n",
       "        [0.00000945],\n",
       "        [0.78405124],\n",
       "        [0.00000812],\n",
       "        [0.23164046],\n",
       "        [0.00003361],\n",
       "        [0.00055185],\n",
       "        [0.00062357],\n",
       "        [0.00005563],\n",
       "        [0.98631269],\n",
       "        [0.77214867],\n",
       "        [0.87438059],\n",
       "        [0.00094726],\n",
       "        [0.00128387],\n",
       "        [0.99966705],\n",
       "        [0.85529995],\n",
       "        [0.99465936],\n",
       "        [0.01128775],\n",
       "        [0.00000503],\n",
       "        [0.00026301],\n",
       "        [0.00468276],\n",
       "        [0.00074982],\n",
       "        [0.98022974],\n",
       "        [0.00021256],\n",
       "        [0.93828744],\n",
       "        [0.00002073],\n",
       "        [0.00706731],\n",
       "        [0.99964488],\n",
       "        [0.00079850],\n",
       "        [0.00340911],\n",
       "        [0.00003029],\n",
       "        [0.00000529],\n",
       "        [0.00128528],\n",
       "        [0.00141162],\n",
       "        [0.00002932],\n",
       "        [0.00004903],\n",
       "        [0.01833274],\n",
       "        [0.00186182],\n",
       "        [0.01067017],\n",
       "        [0.00189622],\n",
       "        [0.00759995],\n",
       "        [0.00974044],\n",
       "        [0.99837589],\n",
       "        [0.00055820],\n",
       "        [0.00002814],\n",
       "        [0.99919444],\n",
       "        [0.00000331],\n",
       "        [0.01283903],\n",
       "        [0.00224520],\n",
       "        [0.81208867],\n",
       "        [0.00530503],\n",
       "        [0.25850940],\n",
       "        [0.96876270],\n",
       "        [0.00325632],\n",
       "        [0.00804867],\n",
       "        [0.91198486],\n",
       "        [0.00004647],\n",
       "        [0.06818192],\n",
       "        [0.89116704],\n",
       "        [0.00000140],\n",
       "        [0.97169262],\n",
       "        [0.06782891],\n",
       "        [0.95108902],\n",
       "        [0.24589700],\n",
       "        [0.00545287],\n",
       "        [0.00000081],\n",
       "        [0.18845138],\n",
       "        [0.00028436],\n",
       "        [0.00000708],\n",
       "        [0.00126399],\n",
       "        [0.00031768],\n",
       "        [0.00005568],\n",
       "        [0.00171518],\n",
       "        [0.99989808],\n",
       "        [0.00006541],\n",
       "        [0.02417973],\n",
       "        [0.00225583],\n",
       "        [0.00000059],\n",
       "        [0.65112209],\n",
       "        [0.06535023],\n",
       "        [0.85523766],\n",
       "        [0.98514682],\n",
       "        [0.00110180],\n",
       "        [0.02162250],\n",
       "        [0.01716501],\n",
       "        [0.00005870],\n",
       "        [0.00000028],\n",
       "        [0.05413519],\n",
       "        [0.00271012],\n",
       "        [0.94621611],\n",
       "        [0.00000615],\n",
       "        [0.17586544],\n",
       "        [0.00067941],\n",
       "        [0.00261440],\n",
       "        [0.00141161],\n",
       "        [0.99373573],\n",
       "        [0.00235063],\n",
       "        [0.40164161],\n",
       "        [0.99960262],\n",
       "        [0.00036851],\n",
       "        [0.00009470],\n",
       "        [0.00000724],\n",
       "        [0.52651733],\n",
       "        [0.01193550],\n",
       "        [0.00002632],\n",
       "        [0.01032089],\n",
       "        [0.76069492],\n",
       "        [0.04643028],\n",
       "        [0.00028911],\n",
       "        [0.99801743],\n",
       "        [0.28478196],\n",
       "        [0.02541153],\n",
       "        [0.00000439],\n",
       "        [0.00040329],\n",
       "        [0.00173613],\n",
       "        [0.03840018],\n",
       "        [0.00000599],\n",
       "        [0.70641828],\n",
       "        [0.07672497],\n",
       "        [0.33973667],\n",
       "        [0.00038402],\n",
       "        [0.02989760],\n",
       "        [0.29367375],\n",
       "        [0.00000201],\n",
       "        [0.10259436],\n",
       "        [0.05369290],\n",
       "        [0.00254449],\n",
       "        [0.00432377],\n",
       "        [0.14857696],\n",
       "        [0.99921548],\n",
       "        [0.00152014],\n",
       "        [0.98031759],\n",
       "        [0.42144439],\n",
       "        [0.94969666],\n",
       "        [0.99944383],\n",
       "        [0.00032673],\n",
       "        [0.43077433],\n",
       "        [0.00020052],\n",
       "        [0.99824500],\n",
       "        [0.00117800],\n",
       "        [0.00113616],\n",
       "        [0.04312274],\n",
       "        [0.00023393],\n",
       "        [0.00012615],\n",
       "        [0.00000733],\n",
       "        [0.00000185],\n",
       "        [0.01144225],\n",
       "        [0.97697693],\n",
       "        [0.00370012],\n",
       "        [0.00131340],\n",
       "        [0.00000157],\n",
       "        [0.02920556],\n",
       "        [0.00001866],\n",
       "        [0.33885419],\n",
       "        [0.00270135],\n",
       "        [0.00007196],\n",
       "        [0.00000452],\n",
       "        [0.70394462],\n",
       "        [0.17566633],\n",
       "        [0.00009218],\n",
       "        [0.88777941],\n",
       "        [0.00003145],\n",
       "        [0.01795338],\n",
       "        [0.00028099],\n",
       "        [0.00503764],\n",
       "        [0.00000118],\n",
       "        [0.00090557],\n",
       "        [0.36434343],\n",
       "        [0.11675984],\n",
       "        [0.00088319],\n",
       "        [0.00748920],\n",
       "        [0.63681042],\n",
       "        [0.00005655],\n",
       "        [0.02324953],\n",
       "        [0.02339749],\n",
       "        [0.55304056],\n",
       "        [0.23493387],\n",
       "        [0.00002942],\n",
       "        [0.20684014],\n",
       "        [0.20380607],\n",
       "        [0.00000391],\n",
       "        [0.00000068],\n",
       "        [0.73458886],\n",
       "        [0.77821201],\n",
       "        [0.00000166],\n",
       "        [0.14301080],\n",
       "        [0.00092198],\n",
       "        [0.02198396],\n",
       "        [0.00136311],\n",
       "        [0.01840463],\n",
       "        [0.97541624],\n",
       "        [0.00439648],\n",
       "        [0.00000689],\n",
       "        [0.00000242],\n",
       "        [0.00018858],\n",
       "        [0.00015886],\n",
       "        [0.00112421],\n",
       "        [0.00424471],\n",
       "        [0.00008801],\n",
       "        [0.00467102],\n",
       "        [0.76257759],\n",
       "        [0.00037815],\n",
       "        [0.99072367],\n",
       "        [0.25442240],\n",
       "        [0.00084000],\n",
       "        [0.00277778],\n",
       "        [0.00000058],\n",
       "        [0.00269234],\n",
       "        [0.00005348],\n",
       "        [0.00006821],\n",
       "        [0.00000010],\n",
       "        [0.68406433],\n",
       "        [0.46138516],\n",
       "        [0.97209364],\n",
       "        [0.00040926],\n",
       "        [0.00009235],\n",
       "        [0.55935335],\n",
       "        [0.00197447],\n",
       "        [0.96632260],\n",
       "        [0.95248592],\n",
       "        [0.08993820],\n",
       "        [0.00008541],\n",
       "        [0.61808830],\n",
       "        [0.50855476],\n",
       "        [0.32514498],\n",
       "        [0.00008533],\n",
       "        [0.00001019],\n",
       "        [0.00000127],\n",
       "        [0.00007910],\n",
       "        [0.00000008],\n",
       "        [0.19278580],\n",
       "        [0.92339307],\n",
       "        [0.60193914],\n",
       "        [0.21617578],\n",
       "        [0.01062161],\n",
       "        [0.00095136],\n",
       "        [0.00004197],\n",
       "        [0.24377753],\n",
       "        [0.00039676],\n",
       "        [0.96583796],\n",
       "        [0.00024352],\n",
       "        [0.00025974],\n",
       "        [0.00024411],\n",
       "        [0.00040577],\n",
       "        [0.00000386],\n",
       "        [0.29900518],\n",
       "        [0.51334435],\n",
       "        [0.00704208],\n",
       "        [0.00000266],\n",
       "        [0.52695680],\n",
       "        [0.99921203],\n",
       "        [0.99940479],\n",
       "        [0.00047987],\n",
       "        [0.96201885],\n",
       "        [0.39437008],\n",
       "        [0.99914992],\n",
       "        [0.77732146],\n",
       "        [0.99760109],\n",
       "        [0.94911194],\n",
       "        [0.00423393],\n",
       "        [0.08721106],\n",
       "        [0.00083633],\n",
       "        [0.16368085],\n",
       "        [0.00002321],\n",
       "        [0.00000711],\n",
       "        [0.92166531],\n",
       "        [0.04013541],\n",
       "        [0.00039924],\n",
       "        [0.03055409],\n",
       "        [0.00000552],\n",
       "        [0.19223665],\n",
       "        [0.00001669],\n",
       "        [0.00536732],\n",
       "        [0.19563806],\n",
       "        [0.00608837],\n",
       "        [0.00000245],\n",
       "        [0.40704626],\n",
       "        [0.00366030],\n",
       "        [0.00000056],\n",
       "        [0.22808990],\n",
       "        [0.07956171],\n",
       "        [0.99847025],\n",
       "        [0.08798286],\n",
       "        [0.99952555],\n",
       "        [0.00083798],\n",
       "        [0.00000340],\n",
       "        [0.00764355],\n",
       "        [0.00054901],\n",
       "        [0.03183319],\n",
       "        [0.10659497],\n",
       "        [0.00000063],\n",
       "        [0.97251850],\n",
       "        [0.29046974],\n",
       "        [0.00040539],\n",
       "        [0.46013683],\n",
       "        [0.33089533],\n",
       "        [0.01305736],\n",
       "        [0.05919992]])"
      ]
     },
     "execution_count": 216,
     "metadata": {},
     "output_type": "execute_result"
    }
   ],
   "source": [
    "#预测\r\n",
    "testx=paddle.to_tensor(test_x)\r\n",
    "testx = paddle.cast(testx, dtype='float32')\r\n",
    "y_pred_probs=model(testx)\r\n",
    "y_pred_probs"
   ]
  },
  {
   "cell_type": "markdown",
   "id": "6407dd58-189b-40fb-95da-ea43d266bd13",
   "metadata": {},
   "source": [
    "# 六、总结与升华\n",
    "\n",
    "deepFM可以自己寻找特征再也不需要人工找特征，但是，也有可能找到的特征是噪音"
   ]
  },
  {
   "cell_type": "markdown",
   "id": "a97527af-0d43-4adb-9cb7-9956671e692f",
   "metadata": {},
   "source": [
    "# 七、个人总结\n",
    "\n",
    "第一次利用paddle算法来做，若有错误之处，欢迎大家指出！\n"
   ]
  }
 ],
 "metadata": {
  "kernelspec": {
   "display_name": "Python 3",
   "language": "python",
   "name": "py35-paddle1.2.0"
  },
  "language_info": {
   "codemirror_mode": {
    "name": "ipython",
    "version": 3
   },
   "file_extension": ".py",
   "mimetype": "text/x-python",
   "name": "python",
   "nbconvert_exporter": "python",
   "pygments_lexer": "ipython3",
   "version": "3.7.4"
  }
 },
 "nbformat": 4,
 "nbformat_minor": 5
}
